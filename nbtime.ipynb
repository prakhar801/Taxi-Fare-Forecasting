{
 "cells": [
  {
   "cell_type": "code",
   "execution_count": null,
   "metadata": {},
   "outputs": [],
   "source": [
    "import numpy as np\n",
    "import pandas as pd\n",
    "import matplotlib.pyplot as plt"
   ]
  },
  {
   "cell_type": "code",
   "execution_count": null,
   "metadata": {},
   "outputs": [],
   "source": [
    "data = pd.read_csv(\"C:/train.csv\", nrows = 100000)"
   ]
  },
  {
   "cell_type": "code",
   "execution_count": null,
   "metadata": {},
   "outputs": [],
   "source": [
    "data.head()"
   ]
  },
  {
   "cell_type": "code",
   "execution_count": null,
   "metadata": {},
   "outputs": [],
   "source": [
    "data[\"pickup_datetime\"] = data[\"pickup_datetime\"].str.replace(\" UTC\",\"\")\n",
    "data[\"pickup_datetime\"] = pd.to_datetime(data[\"pickup_datetime\"],format=\"%Y-%m-%d %H:%M:%S\")"
   ]
  },
  {
   "cell_type": "code",
   "execution_count": null,
   "metadata": {},
   "outputs": [],
   "source": [
    "data[\"year\"]  = pd.DatetimeIndex(data[\"pickup_datetime\"]).year\n",
    "#extract month\n",
    "data[\"month\"] = pd.DatetimeIndex(data[\"pickup_datetime\"]).month\n",
    "data[\"month_name\"] = data[\"month\"].map({1:\"JAN\",2:\"FEB\",3:\"MAR\",\n",
    "                                                4:\"APR\",5:\"MAY\",6:\"JUN\",\n",
    "                                                7:\"JUL\",8:\"AUG\",9:\"SEP\",\n",
    "                                                10:\"OCT\",11:\"NOV\",12:\"DEC\"\n",
    "                                               })\n",
    "#merge year month\n",
    "data[\"month_year\"] = data[\"year\"].astype(str) + \" - \" + data[\"month_name\"]\n",
    "#extract week day \n",
    "data[\"week_day\"]   = data[\"pickup_datetime\"].dt.weekday_name\n",
    "#extract day \n",
    "data[\"day\"]        = data[\"pickup_datetime\"].dt.day\n",
    "#extract hour\n",
    "data[\"hour\"]        = data[\"pickup_datetime\"].dt.hour \n",
    "data = data.sort_values(by = \"pickup_datetime\",ascending = False)"
   ]
  },
  {
   "cell_type": "code",
   "execution_count": null,
   "metadata": {},
   "outputs": [],
   "source": [
    "total_fare = (data.groupby([\"year\",\"month\",\"month_name\",\n",
    "                                     \"month_year\"])[\"fare_amount\"].sum().reset_index())"
   ]
  },
  {
   "cell_type": "code",
   "execution_count": null,
   "metadata": {},
   "outputs": [],
   "source": [
    "ts_fare = total_fare.copy()"
   ]
  },
  {
   "cell_type": "code",
   "execution_count": null,
   "metadata": {},
   "outputs": [],
   "source": [
    "ts_fare[\"date\"] = ts_fare[\"year\"].astype(str) + \"-\" + ts_fare[\"month\"].astype(str)\n",
    "#selecting columns\n",
    "ts_fare = ts_fare[[\"date\",\"fare_amount\"]]\n",
    "#convert to date format\n",
    "ts_fare[\"date\"] = pd.to_datetime(ts_fare[\"date\"],format = \"%Y-%m\")\n",
    "ts_fare.index   = ts_fare[\"date\"]\n",
    "ts_fare = ts_fare.drop(columns  = [\"date\"],axis = 1)\n",
    "ts_fare.head(10)"
   ]
  },
  {
   "cell_type": "code",
   "execution_count": null,
   "metadata": {},
   "outputs": [],
   "source": [
    "log_ts_fare = np.log(ts_fare)"
   ]
  },
  {
   "cell_type": "code",
   "execution_count": null,
   "metadata": {},
   "outputs": [],
   "source": [
    "from statsmodels.tsa.arima_model import ARIMA\n",
    "\n",
    "#ARIMA model\n",
    "def arima_model(time_series,p,d,q) :\n",
    "    arima_model   = ARIMA(time_series , order = (p,d,q))\n",
    "    results_arima = arima_model.fit(disp = -1)\n",
    "    fitted_values = results_arima.fittedvalues\n",
    "    print (results_arima.summary())"
   ]
  },
  {
   "cell_type": "code",
   "execution_count": null,
   "metadata": {},
   "outputs": [],
   "source": [
    "import warnings\n",
    "warnings.filterwarnings(\"ignore\")"
   ]
  },
  {
   "cell_type": "code",
   "execution_count": null,
   "metadata": {},
   "outputs": [],
   "source": [
    "arima_model(log_ts_fare,0,1,2)"
   ]
  }
 ],
 "metadata": {
  "kernelspec": {
   "display_name": "Python 3",
   "language": "python",
   "name": "python3"
  },
  "language_info": {
   "codemirror_mode": {
    "name": "ipython",
    "version": 3
   },
   "file_extension": ".py",
   "mimetype": "text/x-python",
   "name": "python",
   "nbconvert_exporter": "python",
   "pygments_lexer": "ipython3",
   "version": "3.7.3"
  }
 },
 "nbformat": 4,
 "nbformat_minor": 2
}
