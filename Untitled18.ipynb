{
 "cells": [
  {
   "cell_type": "code",
   "execution_count": 2,
   "metadata": {},
   "outputs": [
    {
     "data": {
      "text/html": [
       "        <script type=\"text/javascript\">\n",
       "        window.PlotlyConfig = {MathJaxConfig: 'local'};\n",
       "        if (window.MathJax) {MathJax.Hub.Config({SVG: {font: \"STIX-Web\"}});}\n",
       "        if (typeof require !== 'undefined') {\n",
       "        require.undef(\"plotly\");\n",
       "        requirejs.config({\n",
       "            paths: {\n",
       "                'plotly': ['https://cdn.plot.ly/plotly-latest.min']\n",
       "            }\n",
       "        });\n",
       "        require(['plotly'], function(Plotly) {\n",
       "            window._Plotly = Plotly;\n",
       "        });\n",
       "        }\n",
       "        </script>\n",
       "        "
      ]
     },
     "metadata": {},
     "output_type": "display_data"
    }
   ],
   "source": [
    "import numpy as np # linear algebra\n",
    "import pandas as pd # data processing, CSV file I/O (e.g. pd.read_csv)\n",
    "import os #operating system dependent modules of Python\n",
    "import matplotlib.pyplot as plt #visualization\n",
    "import seaborn as sns #visualization\n",
    "%matplotlib inline\n",
    "import itertools\n",
    "import plotly.offline as py#visualization\n",
    "py.init_notebook_mode(connected=True)#visualization\n",
    "import plotly.graph_objs as go#visualization\n",
    "import plotly.tools as tls#visualization\n",
    "import plotly.figure_factory as ff#visualization\n",
    "import warnings\n",
    "warnings.filterwarnings(\"ignore\")"
   ]
  },
  {
   "cell_type": "code",
   "execution_count": 11,
   "metadata": {},
   "outputs": [],
   "source": [
    "data=pd.read_csv(\"/home/prakhar/Downloads/data.csv\")"
   ]
  },
  {
   "cell_type": "code",
   "execution_count": 12,
   "metadata": {},
   "outputs": [
    {
     "data": {
      "text/plain": [
       "Index(['Trip ID', 'Taxi ID', 'Trip Start Timestamp', 'Trip End Timestamp',\n",
       "       'Trip Seconds', 'Trip Miles', 'Pickup Community Area',\n",
       "       'Dropoff Community Area', 'Fare', 'Tips', 'Tolls', 'Extras',\n",
       "       'Trip Total', 'Payment Type', 'Pickup Centroid Latitude',\n",
       "       'Pickup Centroid Longitude', 'Pickup Centroid Location',\n",
       "       'Dropoff Centroid Latitude', 'Dropoff Centroid Longitude',\n",
       "       'Dropoff Centroid  Location'],\n",
       "      dtype='object')"
      ]
     },
     "execution_count": 12,
     "metadata": {},
     "output_type": "execute_result"
    }
   ],
   "source": [
    "data.columns"
   ]
  },
  {
   "cell_type": "code",
   "execution_count": 13,
   "metadata": {
    "scrolled": true
   },
   "outputs": [
    {
     "data": {
      "text/html": [
       "<div>\n",
       "<style scoped>\n",
       "    .dataframe tbody tr th:only-of-type {\n",
       "        vertical-align: middle;\n",
       "    }\n",
       "\n",
       "    .dataframe tbody tr th {\n",
       "        vertical-align: top;\n",
       "    }\n",
       "\n",
       "    .dataframe thead th {\n",
       "        text-align: right;\n",
       "    }\n",
       "</style>\n",
       "<table border=\"1\" class=\"dataframe\">\n",
       "  <thead>\n",
       "    <tr style=\"text-align: right;\">\n",
       "      <th></th>\n",
       "      <th>Trip ID</th>\n",
       "      <th>Taxi ID</th>\n",
       "      <th>Trip Start Timestamp</th>\n",
       "      <th>Trip End Timestamp</th>\n",
       "      <th>Trip Seconds</th>\n",
       "      <th>Trip Miles</th>\n",
       "      <th>Pickup Community Area</th>\n",
       "      <th>Dropoff Community Area</th>\n",
       "      <th>Fare</th>\n",
       "      <th>Tips</th>\n",
       "      <th>Tolls</th>\n",
       "      <th>Extras</th>\n",
       "      <th>Trip Total</th>\n",
       "      <th>Payment Type</th>\n",
       "      <th>Pickup Centroid Latitude</th>\n",
       "      <th>Pickup Centroid Longitude</th>\n",
       "      <th>Pickup Centroid Location</th>\n",
       "      <th>Dropoff Centroid Latitude</th>\n",
       "      <th>Dropoff Centroid Longitude</th>\n",
       "      <th>Dropoff Centroid  Location</th>\n",
       "    </tr>\n",
       "  </thead>\n",
       "  <tbody>\n",
       "    <tr>\n",
       "      <th>0</th>\n",
       "      <td>67951baef203f37dce7740b124dac7cad672d50a</td>\n",
       "      <td>7df39e38b8f16a8c672c1f9b04a265ecd8c35514162a66...</td>\n",
       "      <td>10-08-2013 12:00</td>\n",
       "      <td>10-08-2013 12:15</td>\n",
       "      <td>180.0</td>\n",
       "      <td>1.20</td>\n",
       "      <td>76.0</td>\n",
       "      <td>76.0</td>\n",
       "      <td>5.85</td>\n",
       "      <td>0.0</td>\n",
       "      <td>0.0</td>\n",
       "      <td>0.0</td>\n",
       "      <td>5.85</td>\n",
       "      <td>Cash</td>\n",
       "      <td>41.979071</td>\n",
       "      <td>-87.903040</td>\n",
       "      <td>POINT (-87.9030396611 41.9790708201)</td>\n",
       "      <td>41.979071</td>\n",
       "      <td>-87.903040</td>\n",
       "      <td>POINT (-87.9030396611 41.9790708201)</td>\n",
       "    </tr>\n",
       "    <tr>\n",
       "      <th>1</th>\n",
       "      <td>56a7ddd8040f9ca81fb5ef28c29e3226bc44719e</td>\n",
       "      <td>c237d44351f69d2afc9dc0cbc54c7812080b78b0e6910e...</td>\n",
       "      <td>12/14/2013 09:45:00 PM</td>\n",
       "      <td>12/14/2013 10:00:00 PM</td>\n",
       "      <td>240.0</td>\n",
       "      <td>0.60</td>\n",
       "      <td>32.0</td>\n",
       "      <td>8.0</td>\n",
       "      <td>4.84</td>\n",
       "      <td>0.0</td>\n",
       "      <td>0.0</td>\n",
       "      <td>1.0</td>\n",
       "      <td>5.84</td>\n",
       "      <td>Cash</td>\n",
       "      <td>41.880994</td>\n",
       "      <td>-87.632746</td>\n",
       "      <td>POINT (-87.6327464887 41.8809944707)</td>\n",
       "      <td>41.893216</td>\n",
       "      <td>-87.637844</td>\n",
       "      <td>POINT (-87.6378442095 41.8932163595)</td>\n",
       "    </tr>\n",
       "    <tr>\n",
       "      <th>2</th>\n",
       "      <td>c828412b6c765eae4ed277d81a5bcfc38725f992</td>\n",
       "      <td>a1b762f1aec578cc84bb53bb095eaf9dffd68e6ad0c271...</td>\n",
       "      <td>11/30/2013 09:30:00 PM</td>\n",
       "      <td>11/30/2013 09:30:00 PM</td>\n",
       "      <td>480.0</td>\n",
       "      <td>1.40</td>\n",
       "      <td>8.0</td>\n",
       "      <td>32.0</td>\n",
       "      <td>6.85</td>\n",
       "      <td>0.0</td>\n",
       "      <td>0.0</td>\n",
       "      <td>1.0</td>\n",
       "      <td>7.85</td>\n",
       "      <td>Cash</td>\n",
       "      <td>41.899156</td>\n",
       "      <td>-87.626211</td>\n",
       "      <td>POINT (-87.6262105324 41.8991556134)</td>\n",
       "      <td>41.877406</td>\n",
       "      <td>-87.621972</td>\n",
       "      <td>POINT (-87.6219716519 41.8774061234)</td>\n",
       "    </tr>\n",
       "    <tr>\n",
       "      <th>3</th>\n",
       "      <td>105b869e975b75714363f926ad5c77fb0c9d8ea2</td>\n",
       "      <td>9959d6a305434212add615716160196621fe1be826d1d8...</td>\n",
       "      <td>12/20/2013 05:15:00 PM</td>\n",
       "      <td>12/20/2013 05:15:00 PM</td>\n",
       "      <td>540.0</td>\n",
       "      <td>0.12</td>\n",
       "      <td>32.0</td>\n",
       "      <td>8.0</td>\n",
       "      <td>6.65</td>\n",
       "      <td>0.0</td>\n",
       "      <td>0.0</td>\n",
       "      <td>0.0</td>\n",
       "      <td>6.65</td>\n",
       "      <td>Cash</td>\n",
       "      <td>41.884987</td>\n",
       "      <td>-87.620993</td>\n",
       "      <td>POINT (-87.6209929134 41.8849871918)</td>\n",
       "      <td>41.893216</td>\n",
       "      <td>-87.637844</td>\n",
       "      <td>POINT (-87.6378442095 41.8932163595)</td>\n",
       "    </tr>\n",
       "    <tr>\n",
       "      <th>4</th>\n",
       "      <td>b5bfedb1b7254fb0ae29406886d3f70ad8766a1b</td>\n",
       "      <td>623105b8ce66296acccd6731cceccad96fa4296c1600af...</td>\n",
       "      <td>12/29/2013 07:45:00 PM</td>\n",
       "      <td>12/29/2013 07:45:00 PM</td>\n",
       "      <td>600.0</td>\n",
       "      <td>0.21</td>\n",
       "      <td>8.0</td>\n",
       "      <td>32.0</td>\n",
       "      <td>8.45</td>\n",
       "      <td>0.0</td>\n",
       "      <td>0.0</td>\n",
       "      <td>0.0</td>\n",
       "      <td>8.45</td>\n",
       "      <td>Cash</td>\n",
       "      <td>41.891972</td>\n",
       "      <td>-87.612945</td>\n",
       "      <td>POINT (-87.6129454143 41.8919715078)</td>\n",
       "      <td>41.870607</td>\n",
       "      <td>-87.622173</td>\n",
       "      <td>POINT (-87.6221729369 41.8706073724)</td>\n",
       "    </tr>\n",
       "  </tbody>\n",
       "</table>\n",
       "</div>"
      ],
      "text/plain": [
       "                                    Trip ID  \\\n",
       "0  67951baef203f37dce7740b124dac7cad672d50a   \n",
       "1  56a7ddd8040f9ca81fb5ef28c29e3226bc44719e   \n",
       "2  c828412b6c765eae4ed277d81a5bcfc38725f992   \n",
       "3  105b869e975b75714363f926ad5c77fb0c9d8ea2   \n",
       "4  b5bfedb1b7254fb0ae29406886d3f70ad8766a1b   \n",
       "\n",
       "                                             Taxi ID    Trip Start Timestamp  \\\n",
       "0  7df39e38b8f16a8c672c1f9b04a265ecd8c35514162a66...        10-08-2013 12:00   \n",
       "1  c237d44351f69d2afc9dc0cbc54c7812080b78b0e6910e...  12/14/2013 09:45:00 PM   \n",
       "2  a1b762f1aec578cc84bb53bb095eaf9dffd68e6ad0c271...  11/30/2013 09:30:00 PM   \n",
       "3  9959d6a305434212add615716160196621fe1be826d1d8...  12/20/2013 05:15:00 PM   \n",
       "4  623105b8ce66296acccd6731cceccad96fa4296c1600af...  12/29/2013 07:45:00 PM   \n",
       "\n",
       "       Trip End Timestamp  Trip Seconds  Trip Miles  Pickup Community Area  \\\n",
       "0        10-08-2013 12:15         180.0        1.20                   76.0   \n",
       "1  12/14/2013 10:00:00 PM         240.0        0.60                   32.0   \n",
       "2  11/30/2013 09:30:00 PM         480.0        1.40                    8.0   \n",
       "3  12/20/2013 05:15:00 PM         540.0        0.12                   32.0   \n",
       "4  12/29/2013 07:45:00 PM         600.0        0.21                    8.0   \n",
       "\n",
       "   Dropoff Community Area  Fare  Tips  Tolls  Extras  Trip Total Payment Type  \\\n",
       "0                    76.0  5.85   0.0    0.0     0.0        5.85         Cash   \n",
       "1                     8.0  4.84   0.0    0.0     1.0        5.84         Cash   \n",
       "2                    32.0  6.85   0.0    0.0     1.0        7.85         Cash   \n",
       "3                     8.0  6.65   0.0    0.0     0.0        6.65         Cash   \n",
       "4                    32.0  8.45   0.0    0.0     0.0        8.45         Cash   \n",
       "\n",
       "   Pickup Centroid Latitude  Pickup Centroid Longitude  \\\n",
       "0                 41.979071                 -87.903040   \n",
       "1                 41.880994                 -87.632746   \n",
       "2                 41.899156                 -87.626211   \n",
       "3                 41.884987                 -87.620993   \n",
       "4                 41.891972                 -87.612945   \n",
       "\n",
       "               Pickup Centroid Location  Dropoff Centroid Latitude  \\\n",
       "0  POINT (-87.9030396611 41.9790708201)                  41.979071   \n",
       "1  POINT (-87.6327464887 41.8809944707)                  41.893216   \n",
       "2  POINT (-87.6262105324 41.8991556134)                  41.877406   \n",
       "3  POINT (-87.6209929134 41.8849871918)                  41.893216   \n",
       "4  POINT (-87.6129454143 41.8919715078)                  41.870607   \n",
       "\n",
       "   Dropoff Centroid Longitude            Dropoff Centroid  Location  \n",
       "0                  -87.903040  POINT (-87.9030396611 41.9790708201)  \n",
       "1                  -87.637844  POINT (-87.6378442095 41.8932163595)  \n",
       "2                  -87.621972  POINT (-87.6219716519 41.8774061234)  \n",
       "3                  -87.637844  POINT (-87.6378442095 41.8932163595)  \n",
       "4                  -87.622173  POINT (-87.6221729369 41.8706073724)  "
      ]
     },
     "execution_count": 13,
     "metadata": {},
     "output_type": "execute_result"
    }
   ],
   "source": [
    "data.head()"
   ]
  },
  {
   "cell_type": "code",
   "execution_count": 14,
   "metadata": {},
   "outputs": [
    {
     "data": {
      "text/plain": [
       "Index(['Trip ID', 'Taxi ID', 'Trip Start Timestamp', 'Trip End Timestamp',\n",
       "       'Trip Seconds', 'Trip Miles', 'Pickup Community Area',\n",
       "       'Dropoff Community Area', 'Fare', 'Tips', 'Tolls', 'Extras',\n",
       "       'Trip Total', 'Payment Type', 'Pickup Centroid Latitude',\n",
       "       'Pickup Centroid Longitude', 'Pickup Centroid Location',\n",
       "       'Dropoff Centroid Latitude', 'Dropoff Centroid Longitude',\n",
       "       'Dropoff Centroid  Location'],\n",
       "      dtype='object')"
      ]
     },
     "execution_count": 14,
     "metadata": {},
     "output_type": "execute_result"
    }
   ],
   "source": [
    "data.columns"
   ]
  },
  {
   "cell_type": "code",
   "execution_count": 21,
   "metadata": {},
   "outputs": [],
   "source": [
    "data= data.drop(columns=['Trip ID','Taxi ID','Tips','Tolls','Extras','Pickup Centroid Location'])"
   ]
  },
  {
   "cell_type": "code",
   "execution_count": 22,
   "metadata": {},
   "outputs": [
    {
     "data": {
      "text/plain": [
       "Index(['Trip Start Timestamp', 'Trip End Timestamp', 'Trip Seconds',\n",
       "       'Trip Miles', 'Pickup Community Area', 'Dropoff Community Area', 'Fare',\n",
       "       'Trip Total', 'Payment Type', 'Pickup Centroid Latitude',\n",
       "       'Pickup Centroid Longitude', 'Dropoff Centroid Latitude',\n",
       "       'Dropoff Centroid Longitude', 'Dropoff Centroid  Location'],\n",
       "      dtype='object')"
      ]
     },
     "execution_count": 22,
     "metadata": {},
     "output_type": "execute_result"
    }
   ],
   "source": [
    "data.columns"
   ]
  },
  {
   "cell_type": "code",
   "execution_count": 23,
   "metadata": {},
   "outputs": [
    {
     "ename": "SyntaxError",
     "evalue": "invalid syntax (<ipython-input-23-fe65c76bcf8c>, line 6)",
     "output_type": "error",
     "traceback": [
      "\u001b[0;36m  File \u001b[0;32m\"<ipython-input-23-fe65c76bcf8c>\"\u001b[0;36m, line \u001b[0;32m6\u001b[0m\n\u001b[0;31m    data[i]=.replace(0,np.nan)\u001b[0m\n\u001b[0m            ^\u001b[0m\n\u001b[0;31mSyntaxError\u001b[0m\u001b[0;31m:\u001b[0m invalid syntax\n"
     ]
    }
   ],
   "source": [
    "coord=['Pickup Centroid Latitude',\n",
    "       'Pickup Centroid Longitude', 'Dropoff Centroid Latitude',\n",
    "       'Dropoff Centroid Longitude']\n",
    "\n",
    "#replacing missing values with 0 for location parameters\n",
    "for col in coord:\n",
    "    data[i]=data[i].replace(0,np.nan)\n",
    "    \n"
   ]
  },
  {
   "cell_type": "code",
   "execution_count": 25,
   "metadata": {},
   "outputs": [],
   "source": [
    "data[\"Trip Start Timestamp\"]=data[\"Trip Start Timestamp\"].apply(lambda row: row.replace(' ','/'))\n",
    "data[\"Trip Start Timestamp\"]=data[\"Trip Start Timestamp\"].apply(lambda row: row.replace('-','/'))\n",
    "data[\"Tripstart_month\"]=data[\"Trip Start Timestamp\"].apply(lambda row: row.split('/')[0])\n",
    "data[\"Tripstart_year\"]=data[\"Trip Start Timestamp\"].apply(lambda row: row.split('/')[2])\n",
    "data[\"Tripstart_day\"]=data[\"Trip Start Timestamp\"].apply(lambda row: row.split('/')[1])"
   ]
  },
  {
   "cell_type": "code",
   "execution_count": 53,
   "metadata": {},
   "outputs": [],
   "source": [
    "data[\"hour\"] = data[\"Trip Start Timestamp\"].apply(lambda row: (int(row.split('/')[-2].split(':')[0])%12 + 12) if(str(row.split('/')[-1]==\"PM\"))else (int(row.split('/')[-2].split(':')[0])%12 if(str(row.split('/')[-1]==\"AM\")) else (int(row.split('/')[-1].split(':')[0]))))\n",
    "# data[\"minutes\"] = data[\"Trip Start Timestamp\"].apply(lambda row: ((row.split('/')[-2].split(':'))))\n",
    "# data[\"seconds\"] = np.zeros(1048575, dtype=int)"
   ]
  },
  {
   "cell_type": "code",
   "execution_count": 58,
   "metadata": {},
   "outputs": [],
   "source": [
    "data=data.drop(columns=['Trip Start Timestamp','Trip End Timestamp'])"
   ]
  },
  {
   "cell_type": "code",
   "execution_count": 59,
   "metadata": {},
   "outputs": [
    {
     "data": {
      "text/plain": [
       "Index(['Trip Seconds', 'Trip Miles', 'Pickup Community Area',\n",
       "       'Dropoff Community Area', 'Fare', 'Trip Total', 'Payment Type',\n",
       "       'Pickup Centroid Latitude', 'Pickup Centroid Longitude',\n",
       "       'Dropoff Centroid Latitude', 'Dropoff Centroid Longitude',\n",
       "       'Dropoff Centroid  Location', 'Tripstart_month', 'Tripstart_year',\n",
       "       'Tripstart_day', 'hour'],\n",
       "      dtype='object')"
      ]
     },
     "execution_count": 59,
     "metadata": {},
     "output_type": "execute_result"
    }
   ],
   "source": [
    "data.columns"
   ]
  },
  {
   "cell_type": "code",
   "execution_count": null,
   "metadata": {},
   "outputs": [],
   "source": [
    "pd.to_datetime(data['Tripstart_year']*10000+data['Tripstart_month']*100+data['Tripstart_day'], format='%Y%m%d')"
   ]
  },
  {
   "cell_type": "code",
   "execution_count": null,
   "metadata": {},
   "outputs": [],
   "source": []
  }
 ],
 "metadata": {
  "kernelspec": {
   "display_name": "Python 3",
   "language": "python",
   "name": "python3"
  },
  "language_info": {
   "codemirror_mode": {
    "name": "ipython",
    "version": 3
   },
   "file_extension": ".py",
   "mimetype": "text/x-python",
   "name": "python",
   "nbconvert_exporter": "python",
   "pygments_lexer": "ipython3",
   "version": "3.5.2"
  }
 },
 "nbformat": 4,
 "nbformat_minor": 2
}
